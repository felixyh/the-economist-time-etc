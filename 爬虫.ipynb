{
 "cells": [
  {
   "cell_type": "code",
   "execution_count": null,
   "id": "2caf17ca",
   "metadata": {
    "scrolled": false
   },
   "outputs": [],
   "source": [
    "pip install requests"
   ]
  },
  {
   "cell_type": "code",
   "execution_count": null,
   "id": "8364782a",
   "metadata": {
    "scrolled": false
   },
   "outputs": [],
   "source": [
    "import requests\n",
    "r = requests.get(\"https://www.baidu.com\")\n",
    "print(type(r))\n",
    "print(r.text[:100])"
   ]
  },
  {
   "cell_type": "code",
   "execution_count": null,
   "id": "eb18a853",
   "metadata": {},
   "outputs": [],
   "source": [
    "import requests\n",
    "r = requests.get(\"https://scrape.center/favicon.ico\")\n",
    "with open(\"favicon.ico\", 'wb') as f:\n",
    "    f.write(r.content)"
   ]
  },
  {
   "cell_type": "code",
   "execution_count": null,
   "id": "b51bd157",
   "metadata": {},
   "outputs": [],
   "source": [
    "import requests\n",
    "files = {'file': open('favicon.ico', 'rb')}\n",
    "r = requests.post('https://www.httpbin.org/post', files=files)\n",
    "print(r.text)\n",
    "print(r.status_code)\n",
    "print(r.headers)\n",
    "print(type(r.headers))\n",
    "print(type(r.headers['Date']))\n",
    "print(r.headers['Date'])"
   ]
  },
  {
   "cell_type": "code",
   "execution_count": 1,
   "id": "c3d4900f",
   "metadata": {},
   "outputs": [
    {
     "name": "stdout",
     "output_type": "stream",
     "text": [
      "<RequestsCookieJar[<Cookie BDORZ=27315 for .baidu.com/>]>\n",
      "BDORZ=27315\n"
     ]
    }
   ],
   "source": [
    "import requests\n",
    "r = requests.get('https://www.baidu.com')\n",
    "print(r.cookies)\n",
    "for key, value in r.cookies.items():\n",
    "    print(key + '=' + value)"
   ]
  },
  {
   "cell_type": "code",
   "execution_count": 2,
   "id": "fb9ac81f",
   "metadata": {},
   "outputs": [
    {
     "name": "stdout",
     "output_type": "stream",
     "text": [
      "[('BDORZ', '27315')]\n"
     ]
    }
   ],
   "source": [
    "print(r.cookies.items())"
   ]
  },
  {
   "cell_type": "code",
   "execution_count": null,
   "id": "c70594d6",
   "metadata": {},
   "outputs": [],
   "source": [
    "import requests\n",
    "headers = {\n",
    "    'Cookie':'_octo=GH1.1.281199162.1656679284; _device_id=3f166e8670eafc60909df10a6e2c2740; user_session=nP9ciTuFvTewU6S_LL7ScqTJodsrwOzDCNaBOB1j0kHhH9bV; __Host-user_session_same_site=nP9ciTuFvTewU6S_LL7ScqTJodsrwOzDCNaBOB1j0kHhH9bV; logged_in=yes; dotcom_user=felixyh; color_mode={\"color_mode\":\"auto\",\"light_theme\":{\"name\":\"light\",\"color_mode\":\"light\"},\"dark_theme\":{\"name\":\"dark\",\"color_mode\":\"dark\"}}; preferred_color_mode=light; tz=Asia/Shanghai; has_recent_activity=1; _gh_sess=j1qsdY3YRHSP2/J9Zv8WdsM3Oen4EvtjTPj4D+rD9kpsJGJdBUlEb0Maq/f6nxpZ3zUISAUn/ocmD6QcxpAkFTfjDBJFTBB7w8SZDoDxvg0A41KcxplFVhl7mpsTviu7X/3q870AlPMpCi5PRtQSn5I02J+35mzjKXCOFR5zq0tPJYF3bLNMOTsBsiX3LdJ07rKD2/7B/QnaI/lNbaDan6iLJPPy4RR5DDVHHbL1Q0N/ixFounovrD/USxsy8QNBQjs20WexKQcZxyQN7g0SxS206uJdrUUQ7h3BRFYB1/hMdu034WcfgZ6QwIwt3VzVXLgbnr0ZnimmZK5EBg==--E2jy1bmnXx2Cv1nZ--56wiU4Schn1s4uxPjv0hmA==',\n",
    "    'User-Agent':'Mozilla/5.0 (Macintosh; Intel Mac OS X 10_15_7) AppleWebKit/537.36 (KHTML, like Gecko) Chrome/112.0.0.0 Safari/537.36'\n",
    "}\n",
    "r = requests.get('https://github.com/', headers=headers)\n",
    "print(r.text)"
   ]
  },
  {
   "cell_type": "code",
   "execution_count": 4,
   "id": "03112aff",
   "metadata": {},
   "outputs": [
    {
     "name": "stdout",
     "output_type": "stream",
     "text": [
      "200\n"
     ]
    }
   ],
   "source": [
    "print(r.status_code)"
   ]
  },
  {
   "cell_type": "code",
   "execution_count": 5,
   "id": "71897c49",
   "metadata": {},
   "outputs": [
    {
     "data": {
      "text/plain": [
       "['_octo=GH1.1.281199162.1656679284',\n",
       " ' _device_id=3f166e8670eafc60909df10a6e2c2740',\n",
       " ' user_session=nP9ciTuFvTewU6S_LL7ScqTJodsrwOzDCNaBOB1j0kHhH9bV',\n",
       " ' __Host-user_session_same_site=nP9ciTuFvTewU6S_LL7ScqTJodsrwOzDCNaBOB1j0kHhH9bV',\n",
       " ' logged_in=yes',\n",
       " ' dotcom_user=felixyh',\n",
       " ' color_mode={\"color_mode\":\"auto\",\"light_theme\":{\"name\":\"light\",\"color_mode\":\"light\"},\"dark_theme\":{\"name\":\"dark\",\"color_mode\":\"dark\"}}',\n",
       " ' preferred_color_mode=light',\n",
       " ' tz=Asia/Shanghai',\n",
       " ' has_recent_activity=1',\n",
       " ' _gh_sess=j1qsdY3YRHSP2/J9Zv8WdsM3Oen4EvtjTPj4D+rD9kpsJGJdBUlEb0Maq/f6nxpZ3zUISAUn/ocmD6QcxpAkFTfjDBJFTBB7w8SZDoDxvg0A41KcxplFVhl7mpsTviu7X/3q870AlPMpCi5PRtQSn5I02J+35mzjKXCOFR5zq0tPJYF3bLNMOTsBsiX3LdJ07rKD2/7B/QnaI/lNbaDan6iLJPPy4RR5DDVHHbL1Q0N/ixFounovrD/USxsy8QNBQjs20WexKQcZxyQN7g0SxS206uJdrUUQ7h3BRFYB1/hMdu034WcfgZ6QwIwt3VzVXLgbnr0ZnimmZK5EBg==--E2jy1bmnXx2Cv1nZ--56wiU4Schn1s4uxPjv0hmA==']"
      ]
     },
     "execution_count": 5,
     "metadata": {},
     "output_type": "execute_result"
    }
   ],
   "source": [
    "cookie = '_octo=GH1.1.281199162.1656679284; _device_id=3f166e8670eafc60909df10a6e2c2740; user_session=nP9ciTuFvTewU6S_LL7ScqTJodsrwOzDCNaBOB1j0kHhH9bV; __Host-user_session_same_site=nP9ciTuFvTewU6S_LL7ScqTJodsrwOzDCNaBOB1j0kHhH9bV; logged_in=yes; dotcom_user=felixyh; color_mode={\"color_mode\":\"auto\",\"light_theme\":{\"name\":\"light\",\"color_mode\":\"light\"},\"dark_theme\":{\"name\":\"dark\",\"color_mode\":\"dark\"}}; preferred_color_mode=light; tz=Asia/Shanghai; has_recent_activity=1; _gh_sess=j1qsdY3YRHSP2/J9Zv8WdsM3Oen4EvtjTPj4D+rD9kpsJGJdBUlEb0Maq/f6nxpZ3zUISAUn/ocmD6QcxpAkFTfjDBJFTBB7w8SZDoDxvg0A41KcxplFVhl7mpsTviu7X/3q870AlPMpCi5PRtQSn5I02J+35mzjKXCOFR5zq0tPJYF3bLNMOTsBsiX3LdJ07rKD2/7B/QnaI/lNbaDan6iLJPPy4RR5DDVHHbL1Q0N/ixFounovrD/USxsy8QNBQjs20WexKQcZxyQN7g0SxS206uJdrUUQ7h3BRFYB1/hMdu034WcfgZ6QwIwt3VzVXLgbnr0ZnimmZK5EBg==--E2jy1bmnXx2Cv1nZ--56wiU4Schn1s4uxPjv0hmA=='\n",
    "cookie.split(';')"
   ]
  },
  {
   "cell_type": "code",
   "execution_count": 6,
   "id": "743e63ac",
   "metadata": {},
   "outputs": [
    {
     "data": {
      "text/plain": [
       "['_octo', 'GH1.1.281199162.1656679284']"
      ]
     },
     "execution_count": 6,
     "metadata": {},
     "output_type": "execute_result"
    }
   ],
   "source": [
    "cookie_item = '_octo=GH1.1.281199162.1656679284'\n",
    "cookie_item.split('=', 1)"
   ]
  },
  {
   "cell_type": "code",
   "execution_count": 8,
   "id": "f7c1f3f5",
   "metadata": {},
   "outputs": [],
   "source": [
    "jar = requests.cookies.RequestsCookieJar()"
   ]
  },
  {
   "cell_type": "code",
   "execution_count": 9,
   "id": "0ec4a3be",
   "metadata": {},
   "outputs": [
    {
     "data": {
      "text/plain": [
       "[]"
      ]
     },
     "execution_count": 9,
     "metadata": {},
     "output_type": "execute_result"
    }
   ],
   "source": [
    "jar.items()"
   ]
  },
  {
   "cell_type": "code",
   "execution_count": 10,
   "id": "c758b7c5",
   "metadata": {},
   "outputs": [
    {
     "data": {
      "text/plain": [
       "[]"
      ]
     },
     "execution_count": 10,
     "metadata": {},
     "output_type": "execute_result"
    }
   ],
   "source": [
    "cookies = '_octo=GH1.1.281199162.1656679284; _device_id=3f166e8670eafc60909df10a6e2c2740; user_session=nP9ciTuFvTewU6S_LL7ScqTJodsrwOzDCNaBOB1j0kHhH9bV; __Host-user_session_same_site=nP9ciTuFvTewU6S_LL7ScqTJodsrwOzDCNaBOB1j0kHhH9bV; logged_in=yes; dotcom_user=felixyh; color_mode={\"color_mode\":\"auto\",\"light_theme\":{\"name\":\"light\",\"color_mode\":\"light\"},\"dark_theme\":{\"name\":\"dark\",\"color_mode\":\"dark\"}}; preferred_color_mode=light; tz=Asia/Shanghai; has_recent_activity=1; _gh_sess=j1qsdY3YRHSP2/J9Zv8WdsM3Oen4EvtjTPj4D+rD9kpsJGJdBUlEb0Maq/f6nxpZ3zUISAUn/ocmD6QcxpAkFTfjDBJFTBB7w8SZDoDxvg0A41KcxplFVhl7mpsTviu7X/3q870AlPMpCi5PRtQSn5I02J+35mzjKXCOFR5zq0tPJYF3bLNMOTsBsiX3LdJ07rKD2/7B/QnaI/lNbaDan6iLJPPy4RR5DDVHHbL1Q0N/ixFounovrD/USxsy8QNBQjs20WexKQcZxyQN7g0SxS206uJdrUUQ7h3BRFYB1/hMdu034WcfgZ6QwIwt3VzVXLgbnr0ZnimmZK5EBg==--E2jy1bmnXx2Cv1nZ--56wiU4Schn1s4uxPjv0hmA=='\n",
    "jar = requests.cookies.RequestsCookieJar()\n",
    "jar.items()"
   ]
  },
  {
   "cell_type": "code",
   "execution_count": 11,
   "id": "90bd86eb",
   "metadata": {},
   "outputs": [
    {
     "name": "stdout",
     "output_type": "stream",
     "text": [
      "{\n",
      "  \"cookies\": {}\n",
      "}\n",
      "\n"
     ]
    }
   ],
   "source": [
    "import requests\n",
    "requests.get('https://www.httpbin.org/cookies/set/number/123456789')\n",
    "r = requests.get('https://www.httpbin.org/cookies')\n",
    "print(r.text)"
   ]
  },
  {
   "cell_type": "code",
   "execution_count": 12,
   "id": "b1659064",
   "metadata": {},
   "outputs": [
    {
     "name": "stdout",
     "output_type": "stream",
     "text": [
      "{\n",
      "  \"cookies\": {\n",
      "    \"number\": \"123456789\"\n",
      "  }\n",
      "}\n",
      "\n"
     ]
    }
   ],
   "source": [
    "import requests\n",
    "s = requests.Session()\n",
    "s.get('https://www.httpbin.org/cookies/set/number/123456789')\n",
    "r = s.get('https://www.httpbin.org/cookies')\n",
    "print(r.text)"
   ]
  },
  {
   "cell_type": "code",
   "execution_count": 13,
   "id": "b6a8d6c7",
   "metadata": {},
   "outputs": [
    {
     "name": "stdout",
     "output_type": "stream",
     "text": [
      "<class 'str'>\n"
     ]
    }
   ],
   "source": [
    "print(type(r.text))"
   ]
  },
  {
   "cell_type": "code",
   "execution_count": 14,
   "id": "87d52069",
   "metadata": {},
   "outputs": [
    {
     "name": "stdout",
     "output_type": "stream",
     "text": [
      "{'cookies': {'number': '123456789'}}\n"
     ]
    }
   ],
   "source": [
    "print(r.json())"
   ]
  },
  {
   "cell_type": "code",
   "execution_count": 15,
   "id": "1074356e",
   "metadata": {},
   "outputs": [
    {
     "name": "stdout",
     "output_type": "stream",
     "text": [
      "<class 'dict'>\n"
     ]
    }
   ],
   "source": [
    "print(type(r.json()))"
   ]
  },
  {
   "cell_type": "code",
   "execution_count": 20,
   "id": "b660d9eb",
   "metadata": {},
   "outputs": [
    {
     "name": "stdout",
     "output_type": "stream",
     "text": [
      "200\n"
     ]
    }
   ],
   "source": [
    "import requests\n",
    "from requests.packages import urllib3\n",
    "\n",
    "# disable ssl errors/warnings\n",
    "urllib3.disable_warnings()\n",
    "r = requests.get('https://ssr2.scrape.center/', verify=False)\n",
    "print(r.status_code)"
   ]
  },
  {
   "cell_type": "code",
   "execution_count": 21,
   "id": "7d433e28",
   "metadata": {},
   "outputs": [
    {
     "name": "stdout",
     "output_type": "stream",
     "text": [
      "200\n"
     ]
    }
   ],
   "source": [
    "import logging\n",
    "import requests\n",
    "\n",
    "# capture warinings to log file, rather than std_output\n",
    "logging.captureWarnings(True)\n",
    "r = requests.get('https://ssr2.scrape.center/', verify=False)\n",
    "print(r.status_code)"
   ]
  },
  {
   "cell_type": "code",
   "execution_count": 23,
   "id": "f1356d59",
   "metadata": {},
   "outputs": [
    {
     "name": "stdout",
     "output_type": "stream",
     "text": [
      "200\n"
     ]
    }
   ],
   "source": [
    "import logging\n",
    "import requests\n",
    "\n",
    "# capture warinings to log file, rather than std_output\n",
    "logging.captureWarnings(True)\n",
    "r = requests.get('https://ssr2.scrape.center/', verify=False, timeout=5)\n",
    "print(r.status_code)"
   ]
  },
  {
   "cell_type": "code",
   "execution_count": 27,
   "id": "b36c6707",
   "metadata": {},
   "outputs": [
    {
     "name": "stdout",
     "output_type": "stream",
     "text": [
      "200\n"
     ]
    }
   ],
   "source": [
    "import requests\n",
    "from requests.packages import urllib3\n",
    "\n",
    "# disable ssl errors/warnings\n",
    "urllib3.disable_warnings()\n",
    "r = requests.get('https://ssr3.scrape.center/', verify=False, auth=('admin', 'admin'))\n",
    "print(r.status_code)"
   ]
  },
  {
   "cell_type": "code",
   "execution_count": 32,
   "id": "77c2ce86",
   "metadata": {},
   "outputs": [
    {
     "ename": "NameError",
     "evalue": "name 'self' is not defined",
     "output_type": "error",
     "traceback": [
      "\u001b[0;31m---------------------------------------------------------------------------\u001b[0m",
      "\u001b[0;31mNameError\u001b[0m                                 Traceback (most recent call last)",
      "Cell \u001b[0;32mIn[32], line 7\u001b[0m\n\u001b[1;32m      5\u001b[0m \u001b[38;5;66;03m# disable ssl errors/warnings\u001b[39;00m\n\u001b[1;32m      6\u001b[0m urllib3\u001b[38;5;241m.\u001b[39mdisable_warnings()\n\u001b[0;32m----> 7\u001b[0m r \u001b[38;5;241m=\u001b[39m Session\u001b[38;5;241m.\u001b[39mget(\u001b[38;5;28;43mself\u001b[39;49m, url\u001b[38;5;241m=\u001b[39m\u001b[38;5;124m'\u001b[39m\u001b[38;5;124mhttps://ssr1.scrape.center/\u001b[39m\u001b[38;5;124m'\u001b[39m, verify\u001b[38;5;241m=\u001b[39m\u001b[38;5;28;01mFalse\u001b[39;00m)\n\u001b[1;32m      9\u001b[0m \u001b[38;5;28mprint\u001b[39m(r\u001b[38;5;241m.\u001b[39mstatus_code)\n",
      "\u001b[0;31mNameError\u001b[0m: name 'self' is not defined"
     ]
    }
   ],
   "source": [
    "from requests import Session\n",
    "from requests.packages import urllib3\n",
    "import re\n",
    "\n",
    "# disable ssl errors/warnings\n",
    "urllib3.disable_warnings()\n",
    "r = Session.get(url='https://ssr1.scrape.center/', verify=False)\n",
    "\n",
    "print(r.status_code)"
   ]
  },
  {
   "cell_type": "code",
   "execution_count": 34,
   "id": "d0292590",
   "metadata": {},
   "outputs": [
    {
     "name": "stdout",
     "output_type": "stream",
     "text": [
      "200\n"
     ]
    }
   ],
   "source": [
    "import requests\n",
    "import re\n",
    "from requests.packages import urllib3\n",
    "\n",
    "# disable ssl errors/warnings\n",
    "urllib3.disable_warnings()\n",
    "r = requests.get(url='https://ssr1.scrape.center/', verify=False)\n",
    "\n",
    "print(r.status_code)"
   ]
  },
  {
   "cell_type": "code",
   "execution_count": 47,
   "id": "70346f65",
   "metadata": {},
   "outputs": [
    {
     "name": "stdout",
     "output_type": "stream",
     "text": [
      "<霸王别姬 - Farewell My Concubine> is produced at: 中国内地、中国香港\n",
      "<这个杀手不太冷 - Léon> is produced at: 法国\n",
      "<肖申克的救赎 - The Shawshank Redemption> is produced at: 美国\n",
      "<泰坦尼克号 - Titanic> is produced at: 美国\n",
      "<罗马假日 - Roman Holiday> is produced at: 美国\n",
      "<唐伯虎点秋香 - Flirting Scholar> is produced at: 中国香港\n",
      "<乱世佳人 - Gone with the Wind> is produced at: 美国\n",
      "<喜剧之王 - The King of Comedy> is produced at: 中国香港\n",
      "<楚门的世界 - The Truman Show> is produced at: 美国\n",
      "<狮子王 - The Lion King> is produced at: 美国\n"
     ]
    }
   ],
   "source": [
    "import requests\n",
    "import re\n",
    "from requests.packages import urllib3\n",
    "\n",
    "# disable ssl errors/warnings\n",
    "urllib3.disable_warnings()\n",
    "r = requests.get(url='https://ssr1.scrape.center/', verify=False)\n",
    "content = r.text\n",
    "mname = re.findall('<h2 data-v-7f856186=\"\" class=\"m-b-sm\">(.*?)</h2>.*?<span data-v-7f856186=\"\">(.*?)</span>', content, re.S)\n",
    "for item in mname:\n",
    "    n, l = item\n",
    "    print(\"<\"+n+\">\" + ' is produced at: ' + l )\n",
    "\n",
    "#     name, location = item[0], item[1]\n",
    "#     print(name + ' is produced at ' + location!)"
   ]
  },
  {
   "cell_type": "code",
   "execution_count": null,
   "id": "9ceff7e4",
   "metadata": {},
   "outputs": [],
   "source": [
    "import requests\n",
    "import re\n",
    "from requests.packages import urllib3\n",
    "\n",
    "# disable ssl errors/warnings\n",
    "urllib3.disable_warnings()\n",
    "r = requests.get(url='https://ssr1.scrape.center/', verify=False)\n",
    "content = r.text\n",
    "mname = re.findall('<h2 data-v-7f856186=\"\" class=\"m-b-sm\">(.*?)</h2>.*?<span data-v-7f856186=\"\">(.*?)</span>', content, re.S)\n"
   ]
  },
  {
   "cell_type": "code",
   "execution_count": 1,
   "id": "225b3c39",
   "metadata": {},
   "outputs": [
    {
     "name": "stdout",
     "output_type": "stream",
     "text": [
      "2023年美国动画片《超级马力欧兄弟大电影》BD中英双字 ['magnet:?xt=urn:btih:1f2fec3868f5b2f6b2444518a2f31b430326e404&dn=[电影天堂www.dytt89.com]超级马力欧兄弟大电影-2023_BD中英双字.mp4&tr=http://t.t789.me:2710/announce&tr=http://t.t789.co:2710/announce&tr=http://t.t789.vip:2710/announce', 'magnet:?xt=urn:btih:0b05ca98b7f6eccff331032f1b64ca988d10fb71&dn=[电影天堂www.dytt89.com]超级马力欧兄弟大电影-2023_HD中英双字.mp4\\r&tr=http://t.t789.me:2710/announce&tr=http://t.t789.co:2710/announce&tr=http://t.t789.vip:2710/announce']\n",
      "2023年国产6.0分剧情冒险片《荒原》HD国语中字 ['magnet:?xt=urn:btih:bda3087b2e5a85ed826365ac6195ad10482ec806&dn=[电影天堂www.dytt89.com]荒原-2022_HD国语中字.mp4&tr=http://t.t789.me:2710/announce&tr=http://t.t789.co:2710/announce&tr=http://t.t789.vip:2710/announce']\n",
      "2023年美国科幻片《蚁人与黄蜂女：量子狂潮》BD双语双字 ['magnet:?xt=urn:btih:4409e0beaa964898081994f7f0eec542a268b3b1&dn=[电影天堂www.dytt89.com]蚁人与黄蜂女：量子狂潮-2023_BD双语双字.mp4&tr=http://t.t789.me:2710/announce&tr=http://t.t789.co:2710/announce&tr=http://t.t789.vip:2710/announce', 'magnet:?xt=urn:btih:9c93b7c5e46ba4e8f97b79811e8ac686708f4613&dn=[电影天堂www.dytt89.com]蚁人与黄蜂女：量子狂潮-2023_BD中英双字.mp4\\r&tr=http://t.t789.me:2710/announce&tr=http://t.t789.co:2710/announce&tr=http://t.t789.vip:2710/announce', 'magnet:?xt=urn:btih:435805d4e4caadd5e6a630785acb51da699beb04&dn=[电影天堂www.dytt89.com]蚁人与黄蜂女：量子狂潮-2023_HD英语中字.mp4\\r&tr=http://t.t789.me:2710/announce&tr=http://t.t789.co:2710/announce&tr=http://t.t789.vip:2710/announce']\n",
      "2023年美国7.6分剧情传记片《气垫传奇》HD机翻中英双字 ['magnet:?xt=urn:btih:0de8c99e4668883b03983007966d752dfbc76b9b&dn=[电影天堂www.dytt89.com]气垫传奇-2023_HD机翻中英双字.mp4&tr=http://t.t789.me:2710/announce&tr=http://t.t789.co:2710/announce&tr=http://t.t789.vip:2710/announce']\n",
      "2021年国产8.3分喜剧科幻片《宇宙探索编辑部》HD国语中字 ['magnet:?xt=urn:btih:47342e7ebcb9f83273463b81318bc84b9636b44c&dn=[电影天堂www.dytt89.com]宇宙探索编辑部-2021_HD国语中字修正版.mp4&tr=http://t.t789.me:2710/announce&tr=http://t.t789.co:2710/announce&tr=http://t.t789.vip:2710/announce']\n",
      "2022年国产7.9分喜剧片《保你平安》HD国语中字 ['magnet:?xt=urn:btih:d91b8e490812a031417f0cba56bf531e488de520&dn=[电影天堂www.dytt89.com]保你平安-2022_HD国语中字.mp4&tr=http://t.t789.me:2710/announce&tr=http://t.t789.co:2710/announce&tr=http://t.t789.vip:2710/announce']\n",
      "2023年英国8.3分动作惊悚片《盟约》BD中英双字 ['magnet:?xt=urn:btih:f4799b3c32f7856059add29b85ec0339995b7f53&dn=[电影天堂www.dytt89.com]盟约-2023_BD中英双字.mp4&tr=http://t.t789.me:2710/announce&tr=http://t.t789.co:2710/announce&tr=http://t.t789.vip:2710/announce', 'magnet:?xt=urn:btih:c60a60aadf42db3cf2d47c0c81d0a96702e7b0d5&dn=[电影天堂www.dytt89.com]盟约-2023_HD中英双字.mp4\\r&tr=http://t.t789.me:2710/announce&tr=http://t.t789.co:2710/announce&tr=http://t.t789.vip:2710/announce']\n",
      "2023年新西兰6.8分恐怖片《鬼玩人崛起》BD中英双字 ['magnet:?xt=urn:btih:4b80d198d20d0e703dd3b354448cdeae43857a3f&dn=[电影天堂www.dytt89.com]鬼玩人崛起-2023_BD中英双字.mp4&tr=http://t.t789.me:2710/announce&tr=http://t.t789.co:2710/announce&tr=http://t.t789.vip:2710/announce']\n",
      "2020年国产7.1分剧情片《不止不休》HD国语中字 ['magnet:?xt=urn:btih:c617023cf67da123f2a384ea5fb7a00d7235a5b1&dn=[电影天堂www.dytt89.com]不止不休-2020_HD国语中字.mp4&tr=http://t.t789.me:2710/announce&tr=http://t.t789.co:2710/announce&tr=http://t.t789.vip:2710/announce']\n",
      "2023年美国奇幻冒险片《龙与地下城：侠盗荣耀》BD中英双字精校 ['magnet:?xt=urn:btih:0fa7224c8a1e6ce97a537126bf2d1c18e2962cd7&dn=[电影天堂www.dytt89.com]龙与地下城：侠盗荣耀-2023_BD中英双字精校版.mp4&tr=http://t.t789.me:2710/announce&tr=http://t.t789.co:2710/announce&tr=http://t.t789.vip:2710/announce', 'magnet:?xt=urn:btih:9c74a0ca0f0dab7a5aeaf5697a2fe65cc4dbb06e&dn=[电影天堂www.dytt89.com]龙与地下城：侠盗荣耀-2023_BD中英双字.mp4\\r&tr=http://t.t789.me:2710/announce&tr=http://t.t789.co:2710/announce&tr=http://t.t789.vip:2710/announce']\n",
      "2023年美国6.4分悬疑惊悚片《惊声尖叫6》BD中英双字 ['magnet:?xt=urn:btih:0c571d2d11bb8d082adc8111a162b6464405bbec&dn=[电影天堂www.dytt89.com]惊声尖叫6-2023_BD中英双字.mp4&tr=http://t.t789.me:2710/announce&tr=http://t.t789.co:2710/announce&tr=http://t.t789.vip:2710/announce', 'magnet:?xt=urn:btih:79a54cd1a165ca2bc4478bc177250806f97607bc&dn=[电影天堂www.dytt89.com]惊声尖叫6-2023_HD中英双字.mp4\\r&tr=http://t.t789.me:2710/announce&tr=http://t.t789.co:2710/announce&tr=http://t.t789.vip:2710/announce']\n",
      "2023年美国6.8分喜剧恐怖片《雷恩菲尔德》BD中英双字 ['magnet:?xt=urn:btih:4a4628da2b57138d703824eb0796f944eed4de91&dn=[电影天堂www.dytt89.com]雷恩菲尔德-2023_BD中英双字.mp4&tr=http://t.t789.me:2710/announce&tr=http://t.t789.co:2710/announce&tr=http://t.t789.vip:2710/announce']\n",
      "2022年德国8.1分历史战争片《万湖会议》BD德语中字 ['magnet:?xt=urn:btih:1be299faa4a9e6cae18be77e6e0158d964757ddb&dn=[电影天堂www.dytt89.com]万湖会议-2022_BD德语中字.mp4&tr=http://t.t789.me:2710/announce&tr=http://t.t789.co:2710/announce&tr=http://t.t789.vip:2710/announce']\n",
      "2023年国产7.8分剧情片《忠犬八公》HD国语中字 ['magnet:?xt=urn:btih:30768196cbeb2ce4e647af67e9f9c88f9eb08249&dn=[电影天堂www.dytt89.com]忠犬八公-2023_HD国语中字.mp4&tr=http://t.t789.me:2710/announce&tr=http://t.t789.co:2710/announce&tr=http://t.t789.vip:2710/announce']\n",
      "2023年国产7.3分喜剧悬疑片《满江红》HD国语中字 ['magnet:?xt=urn:btih:c3c50315040e10b5b6994a501b66984aadf428b3&dn=[电影天堂www.dytt89.com]满江红-2023_HD国语中字.mp4&tr=http://t.t789.me:2710/announce&tr=http://t.t789.co:2710/announce&tr=http://t.t789.vip:2710/announce']\n",
      "2023年国产悬疑犯罪片《回廊亭》HD国语中字 ['magnet:?xt=urn:btih:666b0b0b69ad8c0e39668b7935d6e92c597fe52e&dn=[电影天堂www.dytt89.com]回廊亭-2023_HD国语中字.mp4&tr=http://t.t789.me:2710/announce&tr=http://t.t789.co:2710/announce&tr=http://t.t789.vip:2710/announce']\n",
      "2023年国产爱情片《不能流泪的悲伤》HD国语中字 ['magnet:?xt=urn:btih:6071f09c81013068394d69424583d4874ecf6dcf&dn=[电影天堂www.dytt89.com]不能流泪的悲伤-2023_HD国语中字.mp4&tr=http://t.t789.me:2710/announce&tr=http://t.t789.co:2710/announce&tr=http://t.t789.vip:2710/announce']\n",
      "2022年美国8.6分纪录片《回到太空》BD中英双字 ['magnet:?xt=urn:btih:b277b4c3fade49ec6c3d0029748a151bb165bc80&dn=[电影天堂www.dytt89.com]回到太空-2022_BD中英双字.mp4&tr=http://t.t789.me:2710/announce&tr=http://t.t789.co:2710/announce&tr=http://t.t789.vip:2710/announce']\n",
      "2022年韩国8.2分剧情片《下一个素熙》BD韩语中字 ['magnet:?xt=urn:btih:c1de45907d2ac859144cd0626a10228ebb92527d&dn=[电影天堂www.dytt89.com]下一个素熙-2022_BD韩语中字.mp4&tr=http://t.t789.me:2710/announce&tr=http://t.t789.co:2710/announce&tr=http://t.t789.vip:2710/announce']\n",
      "2023年国产8.4分科幻冒险片《流浪地球2》HD国语中字 ['magnet:?xt=urn:btih:648a5a4b0c58a4eb250d27ab56929958d15405ee&dn=[电影天堂www.dytt89.com]流浪地球2-2023_HD国语中字普清版.mp4&tr=http://t.t789.me:2710/announce&tr=http://t.t789.co:2710/announce&tr=http://t.t789.vip:2710/announce', 'magnet:?xt=urn:btih:845814df6c84ac35cd778a23ca1a2f37e0ac698a&dn=[电影天堂www.dytt89.com]流浪地球2-2023_HD国语中字超清版.mp4\\r&tr=http://t.t789.me:2710/announce&tr=http://t.t789.co:2710/announce&tr=http://t.t789.vip:2710/announce']\n",
      "2023年国产7.2分动画片《熊出没·伴我“熊芯”》HD国语中字 ['magnet:?xt=urn:btih:6948115037741688c6eed09558c21f2a04b5a9e0&dn=[电影天堂www.dytt89.com]熊出没·伴我“熊芯”-2023_HD国语中字.mp4&tr=http://t.t789.me:2710/announce&tr=http://t.t789.co:2710/announce&tr=http://t.t789.vip:2710/announce']\n",
      "2019年西班牙8.6分剧情片《痛苦与荣耀》蓝光中字 ['magnet:?xt=urn:btih:c7ed8f5dba5154ee511bd800625633c1ab9804c6&dn=[电影天堂www.dytt89.com]痛苦与荣耀-2019_蓝光中字.mp4&tr=http://t.t789.me:2710/announce&tr=http://t.t789.co:2710/announce&tr=http://t.t789.vip:2710/announce', 'magnet:?xt=urn:btih:29fb10eb3cec82ff8ef70f4a2924932e45506ecd&dn=[电影天堂www.dytt89.com]痛苦与荣耀BD中英双字.mp4\\r&tr=http://t.t789.me:2710/announce&tr=http://t.t789.co:2710/announce&tr=http://t.t789.vip:2710/announce']\n",
      "2022年日本动画片《名侦探柯南：万圣节的新娘》BD双语中字 ['magnet:?xt=urn:btih:351c5d9e27a211713cc5994f2b5de83e79531a3f&dn=[电影天堂www.dytt89.com]名侦探柯南：万圣节的新娘-2022_BD国日双语中字.mp4&tr=http://t.t789.me:2710/announce&tr=http://t.t789.co:2710/announce&tr=http://t.t789.vip:2710/announce', 'magnet:?xt=urn:btih:7c4221a5f5298ed6a3dea69c1b192abcdcee9b5f&dn=[电影天堂www.dytt89.com]名侦探柯南：万圣节的新娘-2022_BD日语中字V2.mp4\\r&tr=http://t.t789.me:2710/announce&tr=http://t.t789.co:2710/announce&tr=http://t.t789.vip:2710/announce', 'magnet:?xt=urn:btih:920719682b2835ce9a5955435cf774e03ae00c27&dn=[电影天堂www.dytt89.com]名侦探柯南：万圣节的新娘-2022_BD日语中字.mp4\\r&tr=http://t.t789.me:2710/announce&tr=http://t.t789.co:2710/announce&tr=http://t.t789.vip:2710/announce']\n",
      "2022年日本7.2分科幻片《新·奥特曼》BD日语中字 ['magnet:?xt=urn:btih:5da3a80d89b62de08b91ce9c3a30190571013a8f&dn=[电影天堂www.dytt89.com]新·奥特曼-2022_BD日语中字.mp4&tr=http://t.t789.me:2710/announce&tr=http://t.t789.co:2710/announce&tr=http://t.t789.vip:2710/announce', 'magnet:?xt=urn:btih:c27fc2a363897d7b713fc7cf068846d261be3623&dn=[电影天堂www.dytt89.com]新·奥特曼-2022_HD日语中字.mp4\\r&tr=http://t.t789.me:2710/announce&tr=http://t.t789.co:2710/announce&tr=http://t.t789.vip:2710/announce']\n"
     ]
    },
    {
     "name": "stdout",
     "output_type": "stream",
     "text": [
      "2021年中国香港剧情传记片《梅艳芳》BD国粤双语中字 ['magnet:?xt=urn:btih:05d09df88d1c1aa331fec64ac19373637aa14ccb&dn=[电影天堂www.dytt89.com]梅艳芳-2021_BD国语中字.mp4&tr=http://t.t789.me:2710/announce&tr=http://t.t789.co:2710/announce&tr=http://t.t789.vip:2710/announce', 'magnet:?xt=urn:btih:ed7dc7b8b232397c67f24ebad2de523362b54a9a&dn=[电影天堂www.dytt89.com]梅艳芳-2021_BD粤语中字.mp4\\r&tr=http://t.t789.me:2710/announce&tr=http://t.t789.co:2710/announce&tr=http://t.t789.vip:2710/announce', 'magnet:?xt=urn:btih:bb5455d2fd2dff6b7f3dd75540a11f235b55347a&dn=梅艳芳导演版第5集.mp4\\r&tr=http://t.t789.me:2710/announce&tr=http://t.t789.co:2710/announce&tr=http://t.t789.vip:2710/announce', 'magnet:?xt=urn:btih:29bd27cfec30e279a4e4182464f3d86b46f96b01&dn=梅艳芳导演版第4集.mp4\\r&tr=http://t.t789.me:2710/announce&tr=http://t.t789.co:2710/announce&tr=http://t.t789.vip:2710/announce', 'magnet:?xt=urn:btih:8a095d2c82d518015457e25df4ecc4dd98454ebb&dn=梅艳芳导演版第3集.mp4\\r&tr=http://t.t789.me:2710/announce&tr=http://t.t789.co:2710/announce&tr=http://t.t789.vip:2710/announce', 'magnet:?xt=urn:btih:91eb0b6dd244f3b2c9a3c684932f95ea270bec2a&dn=梅艳芳导演版第2集.mp4\\r&tr=http://t.t789.me:2710/announce&tr=http://t.t789.co:2710/announce&tr=http://t.t789.vip:2710/announce', 'magnet:?xt=urn:btih:a17da0c15e1207b17b707bb15189040d1b4ec69c&dn=梅艳芳导演版第1集.mp4\\r&tr=http://t.t789.me:2710/announce&tr=http://t.t789.co:2710/announce&tr=http://t.t789.vip:2710/announce']\n"
     ]
    }
   ],
   "source": [
    "import requests\n",
    "import re\n",
    "from requests.packages import urllib3\n",
    "import os\n",
    "\n",
    "urllib3.disable_warnings()\n",
    "r = requests.get('https://www.dy2018.com/html/gndy/dyzz/index.html', verify=False)\n",
    "# 手动设定响应数据的编码格式\n",
    "r.encoding = r.apparent_encoding\n",
    "html = r.text\n",
    "movie = re.findall('<a href=\"(.*?)\"\\sclass=\"ulink\"\\stitle=\".*?>(.*?)</a>', html)\n",
    "base_url=\"https://www.dy2018.com/\"\n",
    "for m in movie:\n",
    "    url, mname = m\n",
    "    murl = base_url + url\n",
    "    res = requests.get(murl, verify=False)\n",
    "    res.encoding = r.apparent_encoding\n",
    "    shtml = res.text\n",
    "    dlink = re.findall('<a\\shref=\"(.*?)\">magnet', shtml)\n",
    "    print(mname, dlink)"
   ]
  },
  {
   "cell_type": "code",
   "execution_count": null,
   "id": "93b8243d",
   "metadata": {},
   "outputs": [],
   "source": []
  },
  {
   "cell_type": "code",
   "execution_count": null,
   "id": "5bc7875d",
   "metadata": {},
   "outputs": [],
   "source": [
    "import requests\n",
    "import logging\n",
    "import re\n",
    "from urllib.parse import urljoin\n",
    "\n",
    "# 定义日志输出级别和格式\n",
    "logging.basicConfig(level=logging.INFO,\n",
    "                   format='%(asctime)s - %(levelname)s: %(message)')\n",
    "\n",
    "# 定义基础变量\n",
    "BASE_URL = 'https://ssr1.scrape.center'\n",
    "TOTAL_PAGE = 10\n",
    "\n",
    "# 定义爬取函数\n",
    "def scrape_page(url):\n",
    "    logging.info('scraping %s...', url)\n",
    "    try:\n",
    "        response = requests.get(url)\n",
    "        if response.status_code == 200:\n",
    "            response.encoding = response.apparent_encoding\n",
    "            return response.text\n",
    "        logging.error('get invalid status code %s while scraping %s', response.status_code, url)\n",
    "    except requests.RequestException:\n",
    "        logging.error('error occured while scraping %s', url, exc_info=True)\n"
   ]
  },
  {
   "cell_type": "code",
   "execution_count": null,
   "id": "2687c0d2",
   "metadata": {},
   "outputs": [],
   "source": []
  },
  {
   "cell_type": "code",
   "execution_count": null,
   "id": "5d1148f2",
   "metadata": {},
   "outputs": [],
   "source": []
  },
  {
   "cell_type": "code",
   "execution_count": null,
   "id": "f8df41ee",
   "metadata": {},
   "outputs": [],
   "source": []
  },
  {
   "cell_type": "code",
   "execution_count": null,
   "id": "dd0ae4a9",
   "metadata": {},
   "outputs": [],
   "source": []
  },
  {
   "cell_type": "code",
   "execution_count": null,
   "id": "f62d5f1c",
   "metadata": {},
   "outputs": [],
   "source": []
  },
  {
   "cell_type": "code",
   "execution_count": null,
   "id": "f2071405",
   "metadata": {},
   "outputs": [],
   "source": []
  },
  {
   "cell_type": "code",
   "execution_count": null,
   "id": "d7380f1f",
   "metadata": {},
   "outputs": [],
   "source": []
  },
  {
   "cell_type": "code",
   "execution_count": null,
   "id": "7d54e102",
   "metadata": {},
   "outputs": [],
   "source": []
  },
  {
   "cell_type": "code",
   "execution_count": null,
   "id": "86e41d46",
   "metadata": {},
   "outputs": [],
   "source": []
  },
  {
   "cell_type": "code",
   "execution_count": null,
   "id": "afbca338",
   "metadata": {},
   "outputs": [],
   "source": []
  },
  {
   "cell_type": "code",
   "execution_count": null,
   "id": "447ff02b",
   "metadata": {},
   "outputs": [],
   "source": []
  },
  {
   "cell_type": "code",
   "execution_count": null,
   "id": "9a592a3a",
   "metadata": {},
   "outputs": [],
   "source": []
  },
  {
   "cell_type": "code",
   "execution_count": null,
   "id": "6c6d9ad0",
   "metadata": {},
   "outputs": [],
   "source": []
  },
  {
   "cell_type": "code",
   "execution_count": null,
   "id": "c5df472d",
   "metadata": {},
   "outputs": [],
   "source": []
  },
  {
   "cell_type": "code",
   "execution_count": null,
   "id": "d5a511a2",
   "metadata": {},
   "outputs": [],
   "source": []
  },
  {
   "cell_type": "code",
   "execution_count": null,
   "id": "1805862d",
   "metadata": {},
   "outputs": [],
   "source": []
  },
  {
   "cell_type": "code",
   "execution_count": null,
   "id": "cd97f801",
   "metadata": {},
   "outputs": [],
   "source": []
  },
  {
   "cell_type": "code",
   "execution_count": null,
   "id": "3e2f6853",
   "metadata": {},
   "outputs": [],
   "source": []
  },
  {
   "cell_type": "code",
   "execution_count": null,
   "id": "178b11b0",
   "metadata": {},
   "outputs": [],
   "source": []
  },
  {
   "cell_type": "code",
   "execution_count": null,
   "id": "8cb91261",
   "metadata": {},
   "outputs": [],
   "source": []
  },
  {
   "cell_type": "code",
   "execution_count": null,
   "id": "03d249f3",
   "metadata": {},
   "outputs": [],
   "source": []
  },
  {
   "cell_type": "code",
   "execution_count": null,
   "id": "5dfdb91f",
   "metadata": {},
   "outputs": [],
   "source": []
  },
  {
   "cell_type": "code",
   "execution_count": null,
   "id": "32666a34",
   "metadata": {},
   "outputs": [],
   "source": []
  },
  {
   "cell_type": "code",
   "execution_count": null,
   "id": "e5fffc78",
   "metadata": {},
   "outputs": [],
   "source": []
  },
  {
   "cell_type": "code",
   "execution_count": null,
   "id": "f3fe9fd6",
   "metadata": {},
   "outputs": [],
   "source": []
  },
  {
   "cell_type": "code",
   "execution_count": null,
   "id": "e00b9277",
   "metadata": {},
   "outputs": [],
   "source": []
  },
  {
   "cell_type": "code",
   "execution_count": null,
   "id": "1d5dc443",
   "metadata": {},
   "outputs": [],
   "source": []
  },
  {
   "cell_type": "code",
   "execution_count": null,
   "id": "59f0e8fb",
   "metadata": {},
   "outputs": [],
   "source": []
  },
  {
   "cell_type": "code",
   "execution_count": null,
   "id": "70530d53",
   "metadata": {},
   "outputs": [],
   "source": []
  },
  {
   "cell_type": "code",
   "execution_count": null,
   "id": "3dbdf76d",
   "metadata": {},
   "outputs": [],
   "source": []
  },
  {
   "cell_type": "code",
   "execution_count": null,
   "id": "0ce6e38a",
   "metadata": {},
   "outputs": [],
   "source": []
  },
  {
   "cell_type": "code",
   "execution_count": null,
   "id": "cd6aca5e",
   "metadata": {},
   "outputs": [],
   "source": []
  },
  {
   "cell_type": "code",
   "execution_count": null,
   "id": "87f88eea",
   "metadata": {},
   "outputs": [],
   "source": []
  },
  {
   "cell_type": "code",
   "execution_count": null,
   "id": "f46698b2",
   "metadata": {},
   "outputs": [],
   "source": []
  },
  {
   "cell_type": "code",
   "execution_count": null,
   "id": "05948da4",
   "metadata": {},
   "outputs": [],
   "source": []
  },
  {
   "cell_type": "code",
   "execution_count": null,
   "id": "98bc0e50",
   "metadata": {},
   "outputs": [],
   "source": []
  },
  {
   "cell_type": "code",
   "execution_count": null,
   "id": "2dd6727d",
   "metadata": {},
   "outputs": [],
   "source": []
  },
  {
   "cell_type": "code",
   "execution_count": null,
   "id": "7e8ca4f3",
   "metadata": {},
   "outputs": [],
   "source": []
  },
  {
   "cell_type": "code",
   "execution_count": null,
   "id": "1e35dab4",
   "metadata": {},
   "outputs": [],
   "source": []
  },
  {
   "cell_type": "code",
   "execution_count": null,
   "id": "bfe639de",
   "metadata": {},
   "outputs": [],
   "source": []
  },
  {
   "cell_type": "code",
   "execution_count": null,
   "id": "1335c0b1",
   "metadata": {},
   "outputs": [],
   "source": []
  },
  {
   "cell_type": "code",
   "execution_count": null,
   "id": "135f0518",
   "metadata": {},
   "outputs": [],
   "source": []
  },
  {
   "cell_type": "code",
   "execution_count": null,
   "id": "f76bbd65",
   "metadata": {},
   "outputs": [],
   "source": []
  },
  {
   "cell_type": "code",
   "execution_count": null,
   "id": "2c24aefd",
   "metadata": {},
   "outputs": [],
   "source": []
  },
  {
   "cell_type": "code",
   "execution_count": null,
   "id": "a2e2f403",
   "metadata": {},
   "outputs": [],
   "source": []
  },
  {
   "cell_type": "code",
   "execution_count": null,
   "id": "b0c2f895",
   "metadata": {},
   "outputs": [],
   "source": []
  },
  {
   "cell_type": "code",
   "execution_count": null,
   "id": "a2633c85",
   "metadata": {},
   "outputs": [],
   "source": []
  },
  {
   "cell_type": "code",
   "execution_count": null,
   "id": "5ba46884",
   "metadata": {},
   "outputs": [],
   "source": []
  },
  {
   "cell_type": "code",
   "execution_count": null,
   "id": "e579d25f",
   "metadata": {},
   "outputs": [],
   "source": []
  },
  {
   "cell_type": "code",
   "execution_count": null,
   "id": "2d274081",
   "metadata": {},
   "outputs": [],
   "source": []
  },
  {
   "cell_type": "code",
   "execution_count": null,
   "id": "60dd3d71",
   "metadata": {},
   "outputs": [],
   "source": []
  }
 ],
 "metadata": {
  "kernelspec": {
   "display_name": "Python 3 (ipykernel)",
   "language": "python",
   "name": "python3"
  },
  "language_info": {
   "codemirror_mode": {
    "name": "ipython",
    "version": 3
   },
   "file_extension": ".py",
   "mimetype": "text/x-python",
   "name": "python",
   "nbconvert_exporter": "python",
   "pygments_lexer": "ipython3",
   "version": "3.11.3"
  }
 },
 "nbformat": 4,
 "nbformat_minor": 5
}
